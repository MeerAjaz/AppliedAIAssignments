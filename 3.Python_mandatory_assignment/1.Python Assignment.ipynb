{
 "cells": [
  {
   "cell_type": "markdown",
   "metadata": {
    "colab_type": "text",
    "id": "l0ZzOlyxB-kf"
   },
   "source": [
    "<h1>Python: without numpy or sklearn </h1>"
   ]
  },
  {
   "cell_type": "markdown",
   "metadata": {
    "colab_type": "text",
    "id": "C0xO8JV9B-ki"
   },
   "source": [
    "<h3> Q1: Given two matrices please print the product of those two matrices </h3>\n",
    "<pre>\n",
    "\n",
    "Ex 1: A   = [[1 3 4]\n",
    "             [2 5 7]\n",
    "             [5 9 6]]\n",
    "      B   = [[1 0 0]\n",
    "             [0 1 0]\n",
    "             [0 0 1]]\n",
    "      A*B = [[1 3 4]\n",
    "             [2 5 7]\n",
    "             [5 9 6]]\n",
    "\n",
    "     \n",
    "Ex 2: A   = [[1 2]\n",
    "             [3 4]]\n",
    "      B   = [[1 2 3 4 5]\n",
    "             [5 6 7 8 9]]\n",
    "      A*B = [[11 14 17 20 23]\n",
    "             [23 30 36 42 51]]\n",
    "             \n",
    "Ex 3: A   = [[1 2]\n",
    "             [3 4]]\n",
    "      B   = [[1 4]\n",
    "             [5 6]\n",
    "             [7 8]\n",
    "             [9 6]]\n",
    "      A*B =Not possible\n",
    "</pre>"
   ]
  },
  {
   "cell_type": "code",
   "execution_count": 1,
   "metadata": {
    "colab": {},
    "colab_type": "code",
    "id": "rnssAfpgB-kj"
   },
   "outputs": [
    {
     "name": "stdout",
     "output_type": "stream",
     "text": [
      "[[11, 14, 17, 20, 23], [23, 30, 37, 44, 51]]\n"
     ]
    }
   ],
   "source": [
    "# write your python code here\n",
    "# you can take the above example as sample input for your program to test\n",
    "# it should work for any general input try not to hard code for only given input examples\n",
    "\n",
    "\n",
    "# you can free to change all these codes/structure\n",
    "# here A and B are list of lists\n",
    "A = [[1, 2],\n",
    "     [3, 4]]\n",
    "B = [[1, 2, 3, 4, 5], \n",
    "     [5, 6, 7, 8, 9]]\n",
    "\n",
    "def matrix_mul(A, B):\n",
    "    # write your code\n",
    "    rowA, colA, rowB, colB = len(A), len(A[0]), len(B), len(B[0])\n",
    "    result_shape = (len(A), len(B[0]))\n",
    "    result = [[0 for _ in range(result_shape[1])]for _ in range(result_shape[0])]\n",
    "    if colA == rowB:\n",
    "        for i in range(rowA):\n",
    "            for j in range(colB):\n",
    "                for k in range(colA):\n",
    "                    result[i][j] += A[i][k] * B[k][j]\n",
    " \n",
    "        return result\n",
    "    return \"Not possible\"\n",
    "    \n",
    "result = matrix_mul(A, B)\n",
    "print(result)"
   ]
  },
  {
   "cell_type": "markdown",
   "metadata": {
    "colab_type": "text",
    "id": "at4VwLggB-kn"
   },
   "source": [
    "<h3> Q2: Select a number randomly with probability proportional to its magnitude from the given array of n elements</h3>\n",
    "\n",
    "consider an experiment, selecting an element from the list A randomly with probability proportional to its magnitude.\n",
    "assume we are doing the same experiment for 100 times with replacement, in each experiment you will print a number that is selected randomly from A.\n",
    "\n",
    "<pre>\n",
    "Ex 1: A = [0 5 27 6 13 28 100 45 10 79]\n",
    "let f(x) denote the number of times x getting selected in 100 experiments.\n",
    "f(100) > f(79) > f(45) > f(28) > f(27) > f(13) > f(10) > f(6) > f(5) > f(0)\n",
    "</pre>"
   ]
  },
  {
   "cell_type": "code",
   "execution_count": 2,
   "metadata": {
    "colab": {},
    "colab_type": "code",
    "id": "B6S2dpBhB-kn"
   },
   "outputs": [
    {
     "name": "stdout",
     "output_type": "stream",
     "text": [
      "79\n",
      "28\n",
      "28\n",
      "100\n",
      "79\n",
      "79\n",
      "79\n",
      "100\n",
      "79\n",
      "79\n",
      "27\n",
      "100\n",
      "79\n",
      "79\n",
      "79\n",
      "79\n",
      "28\n",
      "79\n",
      "100\n",
      "79\n",
      "79\n",
      "79\n",
      "79\n",
      "79\n",
      "27\n",
      "79\n",
      "100\n",
      "79\n",
      "79\n",
      "100\n",
      "27\n",
      "79\n",
      "79\n",
      "79\n",
      "79\n",
      "100\n",
      "79\n",
      "28\n",
      "28\n",
      "79\n",
      "79\n",
      "79\n",
      "28\n",
      "28\n",
      "79\n",
      "79\n",
      "79\n",
      "100\n",
      "28\n",
      "79\n",
      "79\n",
      "28\n",
      "79\n",
      "28\n",
      "79\n",
      "100\n",
      "28\n",
      "79\n",
      "79\n",
      "79\n",
      "79\n",
      "28\n",
      "79\n",
      "79\n",
      "79\n",
      "79\n",
      "79\n",
      "79\n",
      "100\n",
      "100\n",
      "79\n",
      "79\n",
      "79\n",
      "79\n",
      "79\n",
      "79\n",
      "79\n",
      "79\n",
      "79\n",
      "79\n",
      "79\n",
      "79\n",
      "100\n",
      "79\n",
      "79\n",
      "79\n",
      "100\n",
      "79\n",
      "79\n",
      "27\n",
      "100\n",
      "100\n",
      "79\n",
      "100\n",
      "79\n",
      "79\n",
      "27\n",
      "79\n",
      "28\n"
     ]
    }
   ],
   "source": [
    "from random import uniform\n",
    "import random\n",
    "# write your python code here\n",
    "# you can take the above example as sample input for your program to test\n",
    "# it should work for any general input try not to hard code for only given input examples\n",
    "\n",
    "def weights_of_each_element(A):\n",
    "    sums = sum(A)\n",
    "    for i in range(len(A)):\n",
    "        A[i] = (A[i] / sums) * A[i]\n",
    "    return A    \n",
    "        \n",
    "# you can free to change all these codes/structure\n",
    "def pick_a_number_from_list(A):\n",
    "    # your code here for picking an element from with the probability propotional to its magnitude\n",
    "    sums = sum(A)\n",
    "    minm, maxm = min(A), max(A)\n",
    "    weights = weights_of_each_element(A.copy())\n",
    "    num = random.choices(A, cum_weights=weights, k=len(weights))[0]\n",
    "    return num\n",
    "\n",
    "def sampling_based_on_magnitude(A):\n",
    "    for i in range(1,100):\n",
    "        number = pick_a_number_from_list(A)\n",
    "        print(number)\n",
    "#         break\n",
    "        \n",
    "A = [0, 5, 27, 6, 13, 28, 100, 45, 10, 79]\n",
    "sampling_based_on_magnitude(A)"
   ]
  },
  {
   "cell_type": "markdown",
   "metadata": {
    "colab_type": "text",
    "id": "D1xQy2WWB-kq"
   },
   "source": [
    "<h3> Q3: Replace the digits in the string with #</h3>\n",
    "\n",
    "consider a string that will have digits in that, we need to remove all the not digits and replace the digits with #\n",
    "<pre>\n",
    "Ex 1: A = 234                Output: ###\n",
    "Ex 2: A = a2b3c4             Output: ###\n",
    "Ex 3: A = abc                Output:   (empty string)\n",
    "Ex 5: A = #2a$#b%c%561#      Output: ####\n",
    "</pre>"
   ]
  },
  {
   "cell_type": "code",
   "execution_count": 3,
   "metadata": {
    "colab": {},
    "colab_type": "code",
    "id": "fxczi2jzB-kr"
   },
   "outputs": [],
   "source": [
    "import re\n",
    "# write your python code here\n",
    "# you can take the above example as sample input for your program to test\n",
    "# it should work for any general input try not to hard code for only given input examples\n",
    "\n",
    "# you can free to change all these codes/structure\n",
    "# String: it will be the input to your program\n",
    "def replace_digits(String):\n",
    "    result = ''\n",
    "    for i in range(len(String)):\n",
    "        if String[i].isdigit():\n",
    "            result += '#'\n",
    "    return result # modified string which is after replacing the # with digits"
   ]
  },
  {
   "cell_type": "code",
   "execution_count": 4,
   "metadata": {},
   "outputs": [
    {
     "data": {
      "text/plain": [
       "'####'"
      ]
     },
     "execution_count": 4,
     "metadata": {},
     "output_type": "execute_result"
    }
   ],
   "source": [
    "String = '#2a$#b%c%561#'\n",
    "replace_digits(String)"
   ]
  },
  {
   "cell_type": "markdown",
   "metadata": {
    "colab_type": "text",
    "id": "j7h0Ywg7B-kw"
   },
   "source": [
    "<h3> Q4: Students marks dashboard</h3>\n",
    "\n",
    "consider the marks list of class students given two lists <br>\n",
    "Students = ['student1','student2','student3','student4','student5','student6','student7','student8','student9','student10'] <br>\n",
    "Marks = [45, 78, 12, 14, 48, 43, 45, 98, 35, 80] <br>\n",
    "from the above two lists the Student[0] got Marks[0],  Student[1] got Marks[1] and so on <br><br>\n",
    "your task is to print the name of students\n",
    "<strong>a. Who got top 5 ranks, in the descending order of marks</strong> <br>\n",
    "<strong>b. Who got least 5 ranks, in the increasing order of marks</strong><br>\n",
    "<strong>d. Who got marks between  &gt;25th percentile &lt;75th percentile, in the increasing order of marks</strong>\n",
    "\n",
    "<pre>\n",
    "Ex 1: \n",
    "Students=['student1','student2','student3','student4','student5','student6','student7','student8','student9','student10'] \n",
    "Marks = [45, 78, 12, 14, 48, 43, 47, 98, 35, 80]\n",
    "a. \n",
    "student8  98\n",
    "student10 80\n",
    "student2  78\n",
    "student5  48\n",
    "student7  47\n",
    "b.\n",
    "student3 12\n",
    "student4 14\n",
    "student9 35\n",
    "student6 43\n",
    "student1 45\n",
    "c.\n",
    "student9 35\n",
    "student6 43\n",
    "student1 45\n",
    "student7 47\n",
    "student5 48\n",
    "</pre>"
   ]
  },
  {
   "cell_type": "code",
   "execution_count": 5,
   "metadata": {
    "colab": {},
    "colab_type": "code",
    "id": "cxPJgItsB-kx"
   },
   "outputs": [
    {
     "name": "stdout",
     "output_type": "stream",
     "text": [
      "Top 5 students\n",
      "student8 98\n",
      "student10 80\n",
      "student2 78\n",
      "student5 48\n",
      "student7 47\n",
      "\n",
      "Least 5 students\n",
      "student3 12\n",
      "student4 14\n",
      "student9 35\n",
      "student6 43\n",
      "student1 45\n",
      "\n",
      "students_within_25_and_75\n",
      "student9 35\n",
      "student6 43\n",
      "student1 45\n",
      "student7 47\n",
      "student5 48\n"
     ]
    }
   ],
   "source": [
    "# write your python code here\n",
    "# you can take the above example as sample input for your program to test\n",
    "# it should work for any general input try not to hard code for only given input examples\n",
    "students=['student1','student2','student3','student4','student5','student6','student7','student8','student9','student10'] \n",
    "marks = [45, 78, 12, 14, 48, 43, 47, 98, 35, 80]\n",
    "def percentile(percentile, A):\n",
    "    sorted_data = list(sorted(A.values()))\n",
    "    index = (percentile / 100) * len(sorted_data) - 1\n",
    "    if index.is_integer():\n",
    "        return sorted_data[index]\n",
    "    else:\n",
    "        lower_index = int(index)\n",
    "        upper_index = lower_index +1\n",
    "        lower_val = sorted_data[lower_index]\n",
    "        upper_val = sorted_data[upper_index]\n",
    "        interpolated_value = index - lower_index\n",
    "        final_val = (1 - interpolated_value) * lower_val + interpolated_value * upper_val\n",
    "        return final_val\n",
    "    \n",
    "# you can free to change all these codes/structure\n",
    "def display_dash_board(students, marks):\n",
    "    # write code for computing top top 5 students\n",
    "    student_dict = dict()\n",
    "    for student, mark in zip(students, marks):\n",
    "        student_dict[student] = mark     \n",
    "    top_5_students = {key:val for key, val in sorted(student_dict.items(), key= lambda kv: kv[1], reverse=True)}\n",
    "    print(\"Top 5 students\")\n",
    "    count = 0\n",
    "    for key, val in top_5_students.items():\n",
    "        print(key, val)\n",
    "        if count == 4:\n",
    "            break\n",
    "        count += 1    \n",
    "    # write code for computing top least 5 students\n",
    "    least_5_students = {key:val for key, val in sorted(student_dict.items(), key= lambda kv: kv[1])}\n",
    "    print()\n",
    "    print(\"Least 5 students\")\n",
    "    count = 0\n",
    "    for key, val in least_5_students.items():\n",
    "        print(key, val)\n",
    "        if count == 4:\n",
    "            break\n",
    "        count += 1\n",
    "    \n",
    "    percentile_25, percentile_75 = percentile(25, student_dict), percentile(75, student_dict)\n",
    "    \n",
    "    print()\n",
    "    print('students_within_25_and_75')\n",
    "    students_within_25_and_75 = dict()\n",
    "    count = 0\n",
    "    for key, val in least_5_students.items():\n",
    "        if val > percentile_25 and val < percentile_75:\n",
    "            students_within_25_and_75[key] = val\n",
    "            print(key, val)\n",
    "            if count == 4:\n",
    "                break\n",
    "            count += 1    \n",
    "    \n",
    "    return top_5_students, least_5_students, students_within_25_and_75\n",
    "\n",
    "top_5_students, least_5_students, students_within_25_and_75 = display_dash_board(students, marks)\n",
    "# print(# those values)"
   ]
  },
  {
   "cell_type": "markdown",
   "metadata": {
    "colab_type": "text",
    "id": "qha0OhQHB-k1"
   },
   "source": [
    "<h3> Q5: Find the closest points</h3>\n",
    "\n",
    "consider you have given n data points in the form of list of tuples like S=[(x1,y1),(x2,y2),(x3,y3),(x4,y4),(x5,y5),..,(xn,yn)] and a point P=(p,q) <br> your task is to find 5 closest points(based on cosine distance) in S from P\n",
    "<br>cosine distance between two points (x,y) and (p,q) is defind as $cos^{-1}(\\frac{(x\\cdot p+y\\cdot q)}{\\sqrt(x^2+y^2)\\cdot\\sqrt(p^2+q^2)})$\n",
    "<pre>\n",
    "Ex:\n",
    "\n",
    "S= [(1,2),(3,4),(-1,1),(6,-7),(0, 6),(-5,-8),(-1,-1)(6,0),(1,-1)]\n",
    "P= (3,-4)\n",
    "<img src='https://i.imgur.com/vIFPOcG.jpg', width=300>\n",
    "Output:\n",
    "(6,-7)\n",
    "(1,-1)\n",
    "(6,0)\n",
    "(-5,-8)\n",
    "(-1,-1)\n",
    "</pre>"
   ]
  },
  {
   "cell_type": "code",
   "execution_count": 6,
   "metadata": {
    "colab": {},
    "colab_type": "code",
    "id": "wA5I1g-2B-k2"
   },
   "outputs": [
    {
     "name": "stdout",
     "output_type": "stream",
     "text": [
      "[(6, -7), (1, -1), (6, 0), (-5, -8), (-1, -1)]\n"
     ]
    }
   ],
   "source": [
    "import math\n",
    "\n",
    "# write your python code here\n",
    "# you can take the above example as sample input for your program to test\n",
    "# it should work for any general input try not to hard code for only given input examples\n",
    "# you can free to change all these codes/structure\n",
    "\n",
    "def cosine_dist(pt1, pt2):\n",
    "    x, y = pt1\n",
    "    p, q = pt2\n",
    "    numerator = x*p + y*q\n",
    "    denominator = (x ** 2 + y ** 2) ** 0.5 * (p ** 2 + q ** 2) ** 0.5\n",
    "    value = numerator/denominator\n",
    "    return math.acos(value)\n",
    "\n",
    "# here S is list of tuples and P is a tuple ot len=2\n",
    "def closest_points_to_p(S, P):\n",
    "    cosine_dict = dict()\n",
    "    for coordinate in S:\n",
    "        dist = cosine_dist(coordinate, P)\n",
    "        cosine_dict[coordinate] = dist\n",
    "    sorted_cosine_dict = {key:val for key,val in sorted(cosine_dict.items(), key=lambda kv:kv[1])} \n",
    "    closest_5_points = list()\n",
    "    count = 0\n",
    "    for key, val in sorted_cosine_dict.items():\n",
    "        closest_5_points.append(key)\n",
    "        count += 1\n",
    "        if count == 5:\n",
    "            break\n",
    "    return closest_5_points  # its list of tuples\n",
    "\n",
    "S= [(1,2),(3,4),(-1,1),(6,-7),(0, 6),(-5,-8),(-1,-1),(6,0),(1,-1)]\n",
    "P= (3,-4)\n",
    "points = closest_points_to_p(S, P)\n",
    "print(points) #print the returned values"
   ]
  },
  {
   "cell_type": "markdown",
   "metadata": {
    "colab_type": "text",
    "id": "-g11jeAiB-k5"
   },
   "source": [
    "<h3> Q6: Find Which line separates oranges and apples</h3>\n",
    "consider you have given two set of data points in the form of list of tuples like \n",
    "<pre>\n",
    "Red =[(R11,R12),(R21,R22),(R31,R32),(R41,R42),(R51,R52),..,(Rn1,Rn2)]\n",
    "Blue=[(B11,B12),(B21,B22),(B31,B32),(B41,B42),(B51,B52),..,(Bm1,Bm2)]\n",
    "</pre>\n",
    "and set of line equations(in the string formate, i.e list of strings)\n",
    "<pre>\n",
    "Lines = [a1x+b1y+c1,a2x+b2y+c2,a3x+b3y+c3,a4x+b4y+c4,..,K lines]\n",
    "Note: you need to string parsing here and get the coefficients of x,y and intercept\n",
    "</pre>\n",
    "your task is to for each line that is given print \"YES\"/\"NO\", you will print yes, if all the red points are one side of the line and blue points are other side of the line, otherwise no\n",
    "<pre>\n",
    "Ex:\n",
    "Red= [(1,1),(2,1),(4,2),(2,4), (-1,4)]\n",
    "Blue= [(-2,-1),(-1,-2),(-3,-2),(-3,-1),(1,-3)]\n",
    "Lines=[\"1x+1y+0\",\"1x-1y+0\",\"1x+0y-3\",\"0x+1y-0.5\"]\n",
    "<img src='https://i.imgur.com/DoQf7mE.jpg' width=400>\n",
    "Output:\n",
    "YES\n",
    "NO\n",
    "NO\n",
    "YES\n",
    "</pre>"
   ]
  },
  {
   "cell_type": "code",
   "execution_count": 7,
   "metadata": {
    "colab": {},
    "colab_type": "code",
    "id": "eRxExaTRB-k6"
   },
   "outputs": [
    {
     "name": "stdout",
     "output_type": "stream",
     "text": [
      "yes\n",
      "no\n",
      "no\n",
      "yes\n"
     ]
    }
   ],
   "source": [
    "import math, re\n",
    "# write your python code here\n",
    "# you can take the above example as sample input for your program to test\n",
    "# it should work for any general input try not to hard code for only given input strings\n",
    "def check_signs(values, x, y, c):\n",
    "    prev_sign = 0\n",
    "    for coordinates in values:\n",
    "        xc, yc = coordinates\n",
    "        sign = 1 if (xc * x + yc * y + c) > 0 else -1\n",
    "        if prev_sign == 0:\n",
    "            prev_sign = 1 if sign > 0 else -1\n",
    "        elif prev_sign != sign:\n",
    "            return False\n",
    "    return True    \n",
    "# this code is taken from chatgpt\n",
    "def get_coefficents(equation):\n",
    "    # Define a regular expression pattern to match coefficients\n",
    "    pattern = re.compile(r'([-+]?\\d+)[xy]')\n",
    "\n",
    "    # Use the findall method to extract matches\n",
    "    matches = pattern.findall(equation)\n",
    "\n",
    "    # Ensure that both x and y coefficients are present\n",
    "    if len(matches) < 2:\n",
    "        raise ValueError(\"Equation format is not valid\")\n",
    "\n",
    "    # Extract coefficients from the matches\n",
    "    a, b = map(int, matches)  # Coefficients for x and y\n",
    "    c = re.search(r'([-+]?\\d+)\\s*', equation)  # Constant term\n",
    "    c = int(c.group(1))\n",
    "\n",
    "    return a, b, c\n",
    "\n",
    "# you can free to change all these codes/structure\n",
    "def i_am_the_one(red,blue,line):\n",
    "    # your code\n",
    "    x, y, c = get_coefficents(line)\n",
    "    if check_signs(red, x, y, c) and check_signs(blue, x, y, c):\n",
    "        return 'yes'\n",
    "    return 'no'\n",
    "\n",
    "Red= [(1,1),(2,1),(4,2),(2,4), (-1,4)]\n",
    "Blue= [(-2,-1),(-1,-2),(-3,-2),(-3,-1),(1,-3)]\n",
    "Lines=[\"1x+1y+1=0\",\"1x-1y+0\",\"1x+0y-3\",\"0x+1y-0.5\"]\n",
    "\n",
    "for line in Lines:\n",
    "    yes_or_no = i_am_the_one(Red, Blue, line)\n",
    "    print(yes_or_no) # the returned value"
   ]
  },
  {
   "cell_type": "markdown",
   "metadata": {
    "colab_type": "text",
    "id": "9OBpURbNB-k9"
   },
   "source": [
    "<h3> Q7: Filling the missing values in the specified formate</h3>\n",
    "You will be given a string with digits and '\\_'(missing value) symbols you have to replace the '\\_' symbols as explained \n",
    "<pre>\n",
    "Ex 1: _, _, _, 24 ==> 24/4, 24/4, 24/4, 24/4 i.e we. have distributed the 24 equally to all 4 places <br>\n",
    "Ex 2: 40, _, _, _, 60 ==> (60+40)/5,(60+40)/5,(60+40)/5,(60+40)/5,(60+40)/5 ==> 20, 20, 20, 20, 20 i.e. the sum of (60+40) is distributed qually to all 5 places<br>\n",
    "Ex 3: 80, _, _, _, _  ==> 80/5,80/5,80/5,80/5,80/5 ==> 16, 16, 16, 16, 16 i.e. the 80 is distributed qually to all 5 missing values that are right to it<br>\n",
    "Ex 4: _, _, 30, _, _, _, 50, _, _  \n",
    "==> we will fill the missing values from left to right \n",
    "    a. first we will distribute the 30 to left two missing values (10, 10, 10, _, _, _, 50, _, _)\n",
    "    b. now distribute the sum (10+50) missing values in between (10, 10, 12, 12, 12, 12, 12, _, _) \n",
    "    c. now we will distribute 12 to right side missing values (10, 10, 12, 12, 12, 12, 4, 4, 4)\n",
    "</pre>\n",
    "for a given string with comma seprate values, which will have both missing values numbers like ex: \"_, _, x, _, _, _\"\n",
    "you need fill the missing values\n",
    "\n",
    "Q: your program reads a string like ex: \"_, _, x, _, _, _\" and returns the filled sequence\n",
    "\n",
    "Ex: \n",
    "<pre>\n",
    "Input1: \"_,_,_,24\"\n",
    "Output1: 6,6,6,6\n",
    "\n",
    "Input2: \"40,_,_,_,60\"\n",
    "Output2: 20,20,20,20,20\n",
    "\n",
    "Input3: \"80,_,_,_,_\"\n",
    "Output3: 16,16,16,16,16\n",
    "\n",
    "Input4: \"_,_,30,_,_,_,50,_,_\"\n",
    "Output4: 10,10,12,12,12,12,4,4,4\n",
    "</pre>\n",
    "\n"
   ]
  },
  {
   "cell_type": "code",
   "execution_count": 8,
   "metadata": {
    "colab": {},
    "colab_type": "code",
    "id": "nZmpzHs_B-k-"
   },
   "outputs": [
    {
     "name": "stdout",
     "output_type": "stream",
     "text": [
      "16,16,16,16,8,8\n"
     ]
    }
   ],
   "source": [
    "# write your python code here\n",
    "# you can take the above example as sample input for your program to test\n",
    "# it should work for any general input try not to hard code for only given input strings\n",
    "def fill_value(lst, val, start, end):\n",
    "    for i in range(start, end):\n",
    "        lst[i] = val\n",
    "    return lst\n",
    "\n",
    "# you can free to change all these codes/structure\n",
    "def curve_smoothing(string):\n",
    "    # your code\n",
    "    prev_val = 0\n",
    "    count = 0\n",
    "    start = 0\n",
    "    splitted_string = string.split(',')\n",
    "    result = list(range(len(splitted_string)))\n",
    "    for i, val in enumerate(splitted_string):\n",
    "        count += 1\n",
    "        if val != '_':\n",
    "            avg = (prev_val + int(val)) // count\n",
    "            result = fill_value(result, avg, start, start+count)\n",
    "            count = 1\n",
    "            prev_val = avg\n",
    "            start = i\n",
    "        elif i == len(splitted_string) - 1:\n",
    "            avg = prev_val // count\n",
    "            result = fill_value(result, avg, start, start+count)\n",
    "    result = map(str, result)        \n",
    "    return ','.join(result)\n",
    "\n",
    "S=  \"30,_,_,_,50,_\"\n",
    "smoothed_values= curve_smoothing(S)\n",
    "print(smoothed_values)"
   ]
  },
  {
   "cell_type": "markdown",
   "metadata": {
    "colab_type": "text",
    "id": "RBz4pzlfB-lB"
   },
   "source": [
    "<h3> Q8: Filling the missing values in the specified formate</h3>\n",
    "You will be given a list of lists, each sublist will be of length 2 i.e. [[x,y],[p,q],[l,m]..[r,s]]\n",
    "consider its like a martrix of n rows and two columns\n",
    "1. the first column F will contain only 5 uniques values (F1, F2, F3, F4, F5)\n",
    "2. the second column S will contain only 3 uniques values (S1, S2, S3)\n",
    "<pre>\n",
    "your task is to find\n",
    "a. Probability of P(F=F1|S==S1), P(F=F1|S==S2), P(F=F1|S==S3)\n",
    "b. Probability of P(F=F2|S==S1), P(F=F2|S==S2), P(F=F2|S==S3)\n",
    "c. Probability of P(F=F3|S==S1), P(F=F3|S==S2), P(F=F3|S==S3)\n",
    "d. Probability of P(F=F4|S==S1), P(F=F4|S==S2), P(F=F4|S==S3)\n",
    "e. Probability of P(F=F5|S==S1), P(F=F5|S==S2), P(F=F5|S==S3)\n",
    "</pre>\n",
    "Ex:\n",
    "\n",
    "<pre>\n",
    "[[F1,S1],[F2,S2],[F3,S3],[F1,S2],[F2,S3],[F3,S2],[F2,S1],[F4,S1],[F4,S3],[F5,S1]]\n",
    "\n",
    "a. P(F=F1|S==S1)=1/4, P(F=F1|S==S2)=1/3, P(F=F1|S==S3)=0/3\n",
    "b. P(F=F2|S==S1)=1/4, P(F=F2|S==S2)=1/3, P(F=F2|S==S3)=1/3\n",
    "c. P(F=F3|S==S1)=0/4, P(F=F3|S==S2)=1/3, P(F=F3|S==S3)=1/3\n",
    "d. P(F=F4|S==S1)=1/4, P(F=F4|S==S2)=0/3, P(F=F4|S==S3)=1/3\n",
    "e. P(F=F5|S==S1)=1/4, P(F=F5|S==S2)=0/3, P(F=F5|S==S3)=0/3\n",
    "</pre>\n",
    "\n",
    "\n"
   ]
  },
  {
   "cell_type": "code",
   "execution_count": 9,
   "metadata": {
    "colab": {},
    "colab_type": "code",
    "id": "e-1giz1MB-lC"
   },
   "outputs": [
    {
     "name": "stdout",
     "output_type": "stream",
     "text": [
      "P(F=F1|S==S2)=1/3 P(F=F1|S==S1)=1/4 P(F=F1|S==S3)=0/3 \n",
      "P(F=F3|S==S2)=1/3 P(F=F3|S==S1)=0/4 P(F=F3|S==S3)=1/3 \n",
      "P(F=F2|S==S2)=1/3 P(F=F2|S==S1)=1/4 P(F=F2|S==S3)=1/3 \n",
      "P(F=F5|S==S2)=0/3 P(F=F5|S==S1)=1/4 P(F=F5|S==S3)=0/3 \n",
      "P(F=F4|S==S2)=0/3 P(F=F4|S==S1)=1/4 P(F=F4|S==S3)=1/3 \n"
     ]
    }
   ],
   "source": [
    "# write your python code here\n",
    "# you can take the above example as sample input for your program to test\n",
    "# it should work for any general input try not to hard code for only given input strings\n",
    "\n",
    "def prob(F, S, A):\n",
    "    p_f = 0\n",
    "    p_s = 0\n",
    "    for row in A:\n",
    "        if row[0] == F and row[1] == S:\n",
    "            p_f += 1\n",
    "        if row[1] == S:\n",
    "            p_s += 1     \n",
    "    return p_f,p_s\n",
    "\n",
    "# you can free to change all these codes/structure\n",
    "def compute_conditional_probabilites(A):\n",
    "    # your code\n",
    "    all_probs = list()\n",
    "    f = set()\n",
    "    s = set()\n",
    "    for row in A:\n",
    "        f.add(row[0])\n",
    "        s.add(row[1])   \n",
    "    for fs in f:\n",
    "        for ss in s:\n",
    "            p_f, p_s = prob(fs, ss, A)\n",
    "            print(f'P(F={fs}|S=={ss})={p_f}/{p_s}', end=' ') \n",
    "        print()     \n",
    "        \n",
    "A = [['F1','S1'],['F2','S2'],['F3','S3'],['F1','S2'],['F2','S3'],['F3','S2'],['F2','S1'],['F4','S1'],['F4','S3'],['F5','S1']]\n",
    "\n",
    "compute_conditional_probabilites(A)"
   ]
  },
  {
   "cell_type": "markdown",
   "metadata": {
    "colab_type": "text",
    "id": "n4HS87QmB-lF"
   },
   "source": [
    "<h3> Q9: Given two sentances S1, S2</h3>\n",
    "You will be given two sentances S1, S2 your task is to find \n",
    "<pre>\n",
    "a. Number of common words between S1, S2\n",
    "b. Words in S1 but not in S2\n",
    "c. Words in S2 but not in S1\n",
    "</pre>\n",
    "\n",
    "Ex: \n",
    "<pre>\n",
    "S1= \"the first column F will contain only 5 uniques values\"\n",
    "S2= \"the second column S will contain only 3 uniques values\"\n",
    "Output:\n",
    "a. 7\n",
    "b. ['first','F','5']\n",
    "c. ['second','S','3']\n",
    "</pre>"
   ]
  },
  {
   "cell_type": "code",
   "execution_count": 10,
   "metadata": {
    "colab": {},
    "colab_type": "code",
    "id": "Ez7hlHK0B-lG"
   },
   "outputs": [
    {
     "name": "stdout",
     "output_type": "stream",
     "text": [
      "a, b, c 7 ['first', 'F', '5'] ['second', 'S', '3']\n"
     ]
    }
   ],
   "source": [
    "# write your python code here\n",
    "# you can take the above example as sample input for your program to test\n",
    "# it should work for any general input try not to hard code for only given input strings\n",
    "def common_word(S1, S2):\n",
    "    s1 = dict()\n",
    "    common = 0\n",
    "    for word in S1.split(' '):\n",
    "        s1[word] = s1.get(word, 0) + 1\n",
    "    for word in S2.split(' '):\n",
    "        if s1.get(word):\n",
    "            common += 1\n",
    "    return common\n",
    "\n",
    "def uncommon_word(S1, S2):\n",
    "    # this function returns all the words present in S1 but not in S2\n",
    "    uncommon = list()\n",
    "    s1 = dict()\n",
    "    for word in S1.split(' '):\n",
    "        s1[word] = s1.get(word, 0) + 1\n",
    "    for word in S2.split(' '):\n",
    "        if not s1.get(word):\n",
    "            uncommon.append(word)\n",
    "    return uncommon\n",
    "\n",
    "# you can free to change all these codes/structure\n",
    "def string_features(S1, S2):\n",
    "    # your code\n",
    "    a = common_word(S1, S2)\n",
    "    b = uncommon_word(S2, S1) \n",
    "    c = uncommon_word(S1, S2)\n",
    "    return a, b, c\n",
    "\n",
    "S1= \"the first column F will contain only 5 uniques values\"\n",
    "S2= \"the second column S will contain only 3 uniques values\"\n",
    "a,b,c = string_features(S1, S2)\n",
    "print('a, b, c', a, b, c)"
   ]
  },
  {
   "cell_type": "markdown",
   "metadata": {
    "colab_type": "text",
    "id": "XefXVEjCB-lI"
   },
   "source": [
    "<h3> Q10: Given two sentances S1, S2</h3>\n",
    "You will be given a list of lists, each sublist will be of length 2 i.e. [[x,y],[p,q],[l,m]..[r,s]]\n",
    "consider its like a martrix of n rows and two columns\n",
    "\n",
    "a. the first column Y will contain interger values <br>\n",
    "b. the second column $Y_{score}$ will be having float values <br>\n",
    "Your task is to find the value of $f(Y,Y_{score}) = -1*\\frac{1}{n}\\Sigma_{for each Y,Y_{score} pair}(Ylog10(Y_{score})+(1-Y)log10(1-Y_{score}))$ here n is the number of rows in the matrix\n",
    "<pre>\n",
    "Ex:\n",
    "[[1, 0.4], [0, 0.5], [0, 0.9], [0, 0.3], [0, 0.6], [1, 0.1], [1, 0.9], [1, 0.8]]\n",
    "output:\n",
    "0.4243099\n",
    "</pre>\n",
    "$\\frac{-1}{8}\\cdot((1\\cdot log_{10}(0.4)+0\\cdot log_{10}(0.6))+(0\\cdot log_{10}(0.5)+1\\cdot log_{10}(0.5)) + ... + (1\\cdot log_{10}(0.8)+0\\cdot log_{10}(0.2)) )$"
   ]
  },
  {
   "cell_type": "code",
   "execution_count": 11,
   "metadata": {
    "colab": {},
    "colab_type": "code",
    "id": "N9zkagyNB-lJ"
   },
   "outputs": [
    {
     "name": "stdout",
     "output_type": "stream",
     "text": [
      "loss 0.42430993457031635\n"
     ]
    }
   ],
   "source": [
    "# write your python code here\n",
    "# you can take the above example as sample input for your program to test\n",
    "# it should work for any general input try not to hard code for only given input strings\n",
    "import math\n",
    "\n",
    "# you can free to change all these codes/structure\n",
    "def compute_log_loss(A):\n",
    "    result = 0\n",
    "    for val in A:\n",
    "        y, y_score = val\n",
    "        result += y * math.log10(y_score) + (1 - y) * math.log10(1 - y_score)\n",
    "    loss = result * -1/len(A)\n",
    "    return loss\n",
    "\n",
    "A = [[1, 0.4], [0, 0.5], [0, 0.9], [0, 0.3], [0, 0.6], [1, 0.1], [1, 0.9], [1, 0.8]]\n",
    "loss = compute_log_loss(A)\n",
    "print('loss', loss)"
   ]
  },
  {
   "cell_type": "code",
   "execution_count": null,
   "metadata": {},
   "outputs": [],
   "source": []
  }
 ],
 "metadata": {
  "colab": {
   "collapsed_sections": [],
   "name": "1.Python Assignment.ipynb",
   "provenance": []
  },
  "kernelspec": {
   "display_name": "Python 3 (ipykernel)",
   "language": "python",
   "name": "python3"
  },
  "language_info": {
   "codemirror_mode": {
    "name": "ipython",
    "version": 3
   },
   "file_extension": ".py",
   "mimetype": "text/x-python",
   "name": "python",
   "nbconvert_exporter": "python",
   "pygments_lexer": "ipython3",
   "version": "3.9.12"
  }
 },
 "nbformat": 4,
 "nbformat_minor": 1
}
