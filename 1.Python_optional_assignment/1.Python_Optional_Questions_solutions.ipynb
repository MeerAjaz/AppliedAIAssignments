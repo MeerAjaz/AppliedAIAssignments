{
 "cells": [
  {
   "cell_type": "markdown",
   "id": "490dacde",
   "metadata": {},
   "source": [
    "## 1. Write a function that inputs a number and prints the multiplication table of that number"
   ]
  },
  {
   "cell_type": "code",
   "execution_count": 3,
   "id": "89db9720",
   "metadata": {},
   "outputs": [],
   "source": [
    "def table(num):\n",
    "    for i in range(1, 11):\n",
    "        print(num * i)"
   ]
  },
  {
   "cell_type": "code",
   "execution_count": 4,
   "id": "0065c52e",
   "metadata": {},
   "outputs": [
    {
     "name": "stdout",
     "output_type": "stream",
     "text": [
      "5\n",
      "10\n",
      "15\n",
      "20\n",
      "25\n",
      "30\n",
      "35\n",
      "40\n",
      "45\n",
      "50\n"
     ]
    }
   ],
   "source": [
    "table(5)"
   ]
  },
  {
   "cell_type": "markdown",
   "id": "2eb2295c",
   "metadata": {},
   "source": [
    "## 2. Write a program to print twin primes less than 1000. If two consecutive odd numbers are both prime then they are known as twin primes"
   ]
  },
  {
   "cell_type": "code",
   "execution_count": 49,
   "id": "942800d1",
   "metadata": {},
   "outputs": [],
   "source": [
    "def twin_prime(num):\n",
    "    prevPrime = 3\n",
    "    for num in range(3, 1000):\n",
    "        if num % 2 == 1:\n",
    "            flag = True\n",
    "            for i in range(3, int(num ** 0.5)+1):\n",
    "                if num % i == 0:\n",
    "                    flag = False\n",
    "                    break\n",
    "            if flag:\n",
    "                if num - prevPrime == 2:\n",
    "                    print('Twin Primes:', prevPrime, num)\n",
    "                prevPrime = num\n"
   ]
  },
  {
   "cell_type": "code",
   "execution_count": 50,
   "id": "178df76a",
   "metadata": {},
   "outputs": [
    {
     "name": "stdout",
     "output_type": "stream",
     "text": [
      "Twin Primes: 3 5\n",
      "Twin Primes: 5 7\n",
      "Twin Primes: 11 13\n",
      "Twin Primes: 17 19\n",
      "Twin Primes: 29 31\n",
      "Twin Primes: 41 43\n",
      "Twin Primes: 59 61\n",
      "Twin Primes: 71 73\n",
      "Twin Primes: 101 103\n",
      "Twin Primes: 107 109\n",
      "Twin Primes: 137 139\n",
      "Twin Primes: 149 151\n",
      "Twin Primes: 179 181\n",
      "Twin Primes: 191 193\n",
      "Twin Primes: 197 199\n",
      "Twin Primes: 227 229\n",
      "Twin Primes: 239 241\n",
      "Twin Primes: 269 271\n",
      "Twin Primes: 281 283\n",
      "Twin Primes: 311 313\n",
      "Twin Primes: 347 349\n",
      "Twin Primes: 419 421\n",
      "Twin Primes: 431 433\n",
      "Twin Primes: 461 463\n",
      "Twin Primes: 521 523\n",
      "Twin Primes: 569 571\n",
      "Twin Primes: 599 601\n",
      "Twin Primes: 617 619\n",
      "Twin Primes: 641 643\n",
      "Twin Primes: 659 661\n",
      "Twin Primes: 809 811\n",
      "Twin Primes: 821 823\n",
      "Twin Primes: 827 829\n",
      "Twin Primes: 857 859\n",
      "Twin Primes: 881 883\n"
     ]
    }
   ],
   "source": [
    "twin_prime(1000)"
   ]
  },
  {
   "cell_type": "markdown",
   "id": "1f3c8b0f",
   "metadata": {},
   "source": [
    "## 3. Write a program to find out the prime factors of a number. Example: prime factors of 56 - 2, 2, 2, 7"
   ]
  },
  {
   "cell_type": "code",
   "execution_count": 86,
   "id": "3d2d582f",
   "metadata": {},
   "outputs": [],
   "source": [
    "def primeFactors(num):\n",
    "    i = 2\n",
    "    while(i <= num):\n",
    "        if num % i == 0:\n",
    "            print(i)\n",
    "            num = num / i\n",
    "            i = 1\n",
    "        i += 1    "
   ]
  },
  {
   "cell_type": "code",
   "execution_count": 91,
   "id": "9c7e02d7",
   "metadata": {},
   "outputs": [
    {
     "name": "stdout",
     "output_type": "stream",
     "text": [
      "2\n",
      "2\n",
      "3\n",
      "5\n"
     ]
    }
   ],
   "source": [
    "primeFactors(60)"
   ]
  },
  {
   "cell_type": "markdown",
   "id": "5424fc66",
   "metadata": {},
   "source": [
    "### Q4. Write a program to implement these formulae of permutations and combinations. Number of permutations of n objects taken r at a time: p(n, r) = n! / (n-r)!. Number of combinations of n objects taken r at a time is: c(n, r) = n! / (r!*(n-r)!) = p(n,r) / r!"
   ]
  },
  {
   "cell_type": "code",
   "execution_count": 27,
   "id": "9df9c214",
   "metadata": {},
   "outputs": [],
   "source": [
    "def factorial(num):\n",
    "    result = 1\n",
    "    for i in range(1, num+1):\n",
    "        result *= i\n",
    "    return result    \n",
    "\n",
    "def permutation(num, r):\n",
    "    return factorial(num)/factorial(num - r)\n",
    "\n",
    "def combination(num, r):\n",
    "    return permutation(num, r) / factorial(r)"
   ]
  },
  {
   "cell_type": "code",
   "execution_count": 30,
   "id": "fa268590",
   "metadata": {},
   "outputs": [
    {
     "name": "stdout",
     "output_type": "stream",
     "text": [
      "20.0\n",
      "10.0\n"
     ]
    }
   ],
   "source": [
    "print(permutation(5, 2))\n",
    "print(combination(5, 2))"
   ]
  },
  {
   "cell_type": "markdown",
   "id": "daca92cc",
   "metadata": {},
   "source": [
    "### Q5. Write a function that converts a decimal number to binary number"
   ]
  },
  {
   "cell_type": "code",
   "execution_count": 59,
   "id": "0c69f8e6",
   "metadata": {},
   "outputs": [],
   "source": [
    "def dectobinary(num):\n",
    "    result = ''\n",
    "    while(num):\n",
    "        if num == 1 or num == 0:\n",
    "            result += str(num)\n",
    "            return int(result[::-1])            \n",
    "        result += str(num % 2)\n",
    "        num //= 2\n",
    "    return int(result[::-1])"
   ]
  },
  {
   "cell_type": "code",
   "execution_count": 62,
   "id": "7dc32950",
   "metadata": {},
   "outputs": [
    {
     "data": {
      "text/plain": [
       "1100100"
      ]
     },
     "execution_count": 62,
     "metadata": {},
     "output_type": "execute_result"
    }
   ],
   "source": [
    "dectobinary(100)"
   ]
  },
  {
   "cell_type": "markdown",
   "id": "e148ea84",
   "metadata": {},
   "source": [
    "### Q6. Write a function cubesum() that accepts an integer and returns the sum of the cubes of individual digits of that number. Use this function to make functions PrintArmstrong() and isArmstrong() to print Armstrong numbers and to find whether is an Armstrong number."
   ]
  },
  {
   "cell_type": "code",
   "execution_count": 71,
   "id": "79537913",
   "metadata": {},
   "outputs": [],
   "source": [
    "def cubesum(num):\n",
    "    result = 0\n",
    "    while(num > 0):\n",
    "        rem = num % 10\n",
    "        result += rem ** 3\n",
    "        num //= 10        \n",
    "    return result    \n",
    "        \n",
    "def PrintArmstrong(num1, num2):\n",
    "    for num in range(num1, num2+1):\n",
    "        if isArmstrong(num):\n",
    "            print(num)\n",
    "            \n",
    "def isArmstrong(num):\n",
    "    result = cubesum(num)\n",
    "    if result == num:\n",
    "        return True\n",
    "    return False"
   ]
  },
  {
   "cell_type": "code",
   "execution_count": 75,
   "id": "2bc29fbb",
   "metadata": {},
   "outputs": [
    {
     "name": "stdout",
     "output_type": "stream",
     "text": [
      "153\n",
      "370\n",
      "371\n"
     ]
    }
   ],
   "source": [
    "PrintArmstrong(100, 400)"
   ]
  },
  {
   "cell_type": "markdown",
   "id": "c3097286",
   "metadata": {},
   "source": [
    "### Q7. Write a function prodDigits() that inputs a number and returns the product of digits of that number."
   ]
  },
  {
   "cell_type": "code",
   "execution_count": 17,
   "id": "5026176b",
   "metadata": {},
   "outputs": [],
   "source": [
    "def prodDigits(num):\n",
    "    result = 1\n",
    "    n = len(str(num))\n",
    "    while(n):\n",
    "        result *= (num % 10)\n",
    "        num //= 10\n",
    "        n -= 1\n",
    "    return result    "
   ]
  },
  {
   "cell_type": "code",
   "execution_count": 20,
   "id": "d0a09ec6",
   "metadata": {},
   "outputs": [
    {
     "name": "stdout",
     "output_type": "stream",
     "text": [
      "362880\n"
     ]
    }
   ],
   "source": [
    "print(prodDigits(123456789))"
   ]
  },
  {
   "cell_type": "markdown",
   "id": "9584115c",
   "metadata": {},
   "source": [
    "### Q8. If all digits of a number n are multiplied by each other repeating with the product, the one digit number obtained at last is called the multiplicative digital root of n. The number of times digits need to be multiplied to reach one digit is called the multiplicative persistance of n.\n",
    "```\n",
    "Example: 86 -> 48 -> 32 -> 6 (MDR 6, MPersistence 3)\n",
    "341 -> 12->2 (MDR 2, MPersistence 2)\n",
    "```\n",
    "Using the function prodDigits() of previous exercise write functions MDR() and\n",
    "MPersistence() that input a number and return its multiplicative digital root and\n",
    "multiplicative persistence respectively"
   ]
  },
  {
   "cell_type": "code",
   "execution_count": 81,
   "id": "4ce47caa",
   "metadata": {},
   "outputs": [],
   "source": [
    "def MPersistence(num):\n",
    "    count = 0\n",
    "    while(True):\n",
    "        num = prodDigits(num)\n",
    "        count += 1\n",
    "        if len(str(num)) == 1:\n",
    "            return num, count"
   ]
  },
  {
   "cell_type": "code",
   "execution_count": 84,
   "id": "2fdc036f",
   "metadata": {},
   "outputs": [
    {
     "data": {
      "text/plain": [
       "(0, 1)"
      ]
     },
     "execution_count": 84,
     "metadata": {},
     "output_type": "execute_result"
    }
   ],
   "source": [
    "MPersistence(340)"
   ]
  },
  {
   "cell_type": "markdown",
   "id": "22e41c6e",
   "metadata": {},
   "source": [
    "### Q9. Write a function sumPdivisors() that finds the sum of proper divisors of a number. Proper divisors of a number are those numbers by which the number is divisible, except the number itself. For example proper divisors of 36 are 1, 2, 3, 4, 6, 9, 12, 18"
   ]
  },
  {
   "cell_type": "code",
   "execution_count": 106,
   "id": "7e2d86ad",
   "metadata": {},
   "outputs": [],
   "source": [
    "def sumPdivisors(num):\n",
    "    result = 0\n",
    "    for val in range(1, num//2 + 1):\n",
    "        if num % val == 0:\n",
    "            result += val\n",
    "    return result        "
   ]
  },
  {
   "cell_type": "code",
   "execution_count": 130,
   "id": "adca58d8",
   "metadata": {},
   "outputs": [
    {
     "data": {
      "text/plain": [
       "76"
      ]
     },
     "execution_count": 130,
     "metadata": {},
     "output_type": "execute_result"
    }
   ],
   "source": [
    "sumPdivisors(92)"
   ]
  },
  {
   "cell_type": "markdown",
   "id": "26c4a400",
   "metadata": {},
   "source": [
    "### Q10. A number is called perfect if the sum of proper divisors of that number is equal to the number. For example 28 is perfect number, since 1+2+4+7+14=28. Write a program to print all the perfect numbers in a given range"
   ]
  },
  {
   "cell_type": "code",
   "execution_count": 108,
   "id": "4724999f",
   "metadata": {},
   "outputs": [],
   "source": [
    "def PerfectNumbers(num1, num2):\n",
    "    for val in range(num1, num2+1):\n",
    "        if val == sumPdivisors(val):\n",
    "            print(val)            "
   ]
  },
  {
   "cell_type": "code",
   "execution_count": 111,
   "id": "52a6bc7a",
   "metadata": {},
   "outputs": [
    {
     "name": "stdout",
     "output_type": "stream",
     "text": [
      "6\n",
      "28\n",
      "496\n"
     ]
    }
   ],
   "source": [
    "PerfectNumbers(1, 1000)"
   ]
  },
  {
   "cell_type": "markdown",
   "id": "0f957630",
   "metadata": {},
   "source": [
    "### Q11. Two different numbers are called amicable numbers if the sum of the proper divisors of each is equal to the other number. For example 220 and 284 are amicable numbers.\n",
    "``` \n",
    "Sum of proper divisors of 220 = 1+2+4+5+10+11+20+22+44+55+110 = 284\n",
    "Sum of proper divisors of 284 = 1+2+4+71+142 = 220\n",
    "Write a function to print pairs of amicable numbers in a range\n",
    "```"
   ]
  },
  {
   "cell_type": "code",
   "execution_count": 113,
   "id": "6bbbfcf6",
   "metadata": {},
   "outputs": [],
   "source": [
    "def isAmicable(num1, num2):\n",
    "    if num1 == sumPdivisors(num2):\n",
    "        return True\n",
    "    else:\n",
    "        return False"
   ]
  },
  {
   "cell_type": "code",
   "execution_count": 131,
   "id": "9a1fc932",
   "metadata": {},
   "outputs": [],
   "source": [
    "def printAmicable(num1, num2):\n",
    "    for val1 in range(num1, num2+1):\n",
    "        for val2 in range(val1+1, num2+1):\n",
    "            if isAmicable(val1, val2):\n",
    "                print(val2, val1)"
   ]
  },
  {
   "cell_type": "code",
   "execution_count": 134,
   "id": "5e4fceb9",
   "metadata": {},
   "outputs": [
    {
     "name": "stdout",
     "output_type": "stream",
     "text": [
      "4 3\n",
      "9 4\n",
      "8 7\n",
      "10 8\n"
     ]
    }
   ],
   "source": [
    "printAmicable(2, 10)"
   ]
  },
  {
   "cell_type": "markdown",
   "id": "df945ae6",
   "metadata": {},
   "source": [
    "### Q12. Write a program which can filter odd numbers in a list by using filter function"
   ]
  },
  {
   "cell_type": "code",
   "execution_count": 152,
   "id": "e0333dc6",
   "metadata": {},
   "outputs": [
    {
     "name": "stdout",
     "output_type": "stream",
     "text": [
      "1 3 5 7 9\n"
     ]
    }
   ],
   "source": [
    "def filterodd(num):\n",
    "    if num % 2 != 0:\n",
    "        return True\n",
    "nums = list(range(11))    \n",
    "odds = filter(filterodd, nums)    \n",
    "print(*odds)"
   ]
  },
  {
   "cell_type": "markdown",
   "id": "bd1c1bb7",
   "metadata": {},
   "source": [
    "### Q13. Write a program which can map() to make a list whose elements are cube of elements in a given list"
   ]
  },
  {
   "cell_type": "code",
   "execution_count": 145,
   "id": "6c984696",
   "metadata": {},
   "outputs": [
    {
     "name": "stdout",
     "output_type": "stream",
     "text": [
      "0 1 8 27 64 125 216 343 512 729\n"
     ]
    }
   ],
   "source": [
    "def cube(num):\n",
    "    return num ** 3\n",
    "\n",
    "nums = list(range(10))\n",
    "output = map(cube, nums)\n",
    "print(*output)"
   ]
  },
  {
   "cell_type": "markdown",
   "id": "69cedcfd",
   "metadata": {},
   "source": [
    "### Q14. Write a program which can map() and filter() to make a list whose elements are cube of even number in a given list"
   ]
  },
  {
   "cell_type": "code",
   "execution_count": 154,
   "id": "81be2d94",
   "metadata": {},
   "outputs": [],
   "source": [
    "def filterEven(num):\n",
    "    if num % 2 == 0:\n",
    "        return True"
   ]
  },
  {
   "cell_type": "code",
   "execution_count": 161,
   "id": "835f4028",
   "metadata": {},
   "outputs": [
    {
     "name": "stdout",
     "output_type": "stream",
     "text": [
      "0 8 64 216 512 1000\n"
     ]
    }
   ],
   "source": [
    "def cubeofevenNo(nums):\n",
    "#     result = map(lambda x: x**3, filter(filterEven, nums)) # using lambda\n",
    "    result = map(cube, filter(filterEven, nums)) # using function\n",
    "    return result\n",
    "nums = list(range(11))\n",
    "print(*cubeofevenNo(nums))"
   ]
  },
  {
   "cell_type": "code",
   "execution_count": null,
   "id": "a49b803e",
   "metadata": {},
   "outputs": [],
   "source": []
  }
 ],
 "metadata": {
  "kernelspec": {
   "display_name": "tkandkeras",
   "language": "python",
   "name": "tkandkeras"
  },
  "language_info": {
   "codemirror_mode": {
    "name": "ipython",
    "version": 3
   },
   "file_extension": ".py",
   "mimetype": "text/x-python",
   "name": "python",
   "nbconvert_exporter": "python",
   "pygments_lexer": "ipython3",
   "version": "3.7.16"
  }
 },
 "nbformat": 4,
 "nbformat_minor": 5
}
